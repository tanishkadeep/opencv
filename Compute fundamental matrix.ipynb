{
 "cells": [
  {
   "cell_type": "code",
   "execution_count": null,
   "id": "bf1854e1",
   "metadata": {},
   "outputs": [],
   "source": [
    "import cv2\n",
    "import numpy as np\n",
    "import matplotlib.pyplot as plt\n",
    "\n",
    "img1, img2 = cv2.imread('f1.png', 0), cv2.imread('f2.jp', 0)\n",
    "kp1, des1 = cv2.ORB_create().detectAndCompute(img1, None)\n",
    "kp2, des2 = cv2.ORB_create().detectAndCompute(img2, None)\n",
    "matches = cv2.BFMatcher(cv2.NORM_HAMMING, crossCheck=True).match(des1, des2)\n",
    "pts1, pts2 = np.float32([kp1[m.queryIdx].pt for m in matches]), np.float32([kp2[m.trainIdx].pt for m in matches])\n",
    "F, _ = cv2.findFundamentalMat(pts1, pts2, cv2.FM_RANSAC)\n",
    "\n",
    "print(\"Fundamental Matrix:\\n\", F)\n",
    "plt.imshow(cv2.cvtColor(cv2.drawMatches(img1, kp1, img2, kp2, matches[:10], None), cv2.COLOR_BGR2RGB))"
   ]
  }
 ],
 "metadata": {
  "kernelspec": {
   "display_name": "Python 3 (ipykernel)",
   "language": "python",
   "name": "python3"
  },
  "language_info": {
   "codemirror_mode": {
    "name": "ipython",
    "version": 3
   },
   "file_extension": ".py",
   "mimetype": "text/x-python",
   "name": "python",
   "nbconvert_exporter": "python",
   "pygments_lexer": "ipython3",
   "version": "3.11.7"
  }
 },
 "nbformat": 4,
 "nbformat_minor": 5
}
